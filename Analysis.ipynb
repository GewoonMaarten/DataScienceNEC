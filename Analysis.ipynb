{
 "cells": [
  {
   "cell_type": "markdown",
   "metadata": {
    "collapsed": true
   },
   "source": [
    "# Analysis\n",
    "In dit notebook zullen met analyse doen op de dataframe's die verkregen zijn in het notebook 'Data collection & munging'."
   ]
  },
  {
   "cell_type": "code",
   "execution_count": 19,
   "metadata": {
    "collapsed": false
   },
   "outputs": [],
   "source": [
    "import time\n",
    "from datetime import datetime\n",
    "import numpy as np\n",
    "import matplotlib.pyplot as plt\n",
    "import pandas as pd\n",
    "from pandas import DataFrame, Series\n",
    "from sklearn.cluster import KMeans\n",
    "from sklearn import datasets"
   ]
  },
  {
   "cell_type": "markdown",
   "metadata": {},
   "source": [
    "Eerst moeten we de benodigde datasets inlezen en de nan waardes eruit halen"
   ]
  },
  {
   "cell_type": "code",
   "execution_count": 2,
   "metadata": {
    "collapsed": true
   },
   "outputs": [],
   "source": [
    "balbezitCambuur = pd.read_csv('datasets/bewerkte-datasets/Balbezit NEC-Cambuur.csv', index_col=0)\n",
    "balbezitRoda = pd.read_csv('datasets/bewerkte-datasets/Balbezit NEC-Roda.csv', index_col=0)\n",
    "balbezitPEC = pd.read_csv('datasets/bewerkte-datasets/Balbezit PEC-NEC.csv', index_col=0)\n",
    "balbezitUtrecht = pd.read_csv('datasets/bewerkte-datasets/Balbezit Utrecht-NEC.csv', index_col=0)\n",
    "balbezitPEC['position'] = balbezitPEC[\"x\"].map(str) + ',' + balbezitPEC[\"y\"].map(str)\n",
    "\n",
    "headers = ['GPStijd', 'dt(ms)', 'lat', 'long', 'snelheid(m/s)', 'acc_x(g-force)', 'acc_y,acc_z', 'gyro_x(deg/s)', 'gyro_y', 'gyro_z', 'mag_x(-)', 'mag_y', 'mag_z', 'NOTOFINTEREST', 'heart rate (bpm)']\n",
    "speler = pd.read_csv('datasets/gps/20160410 FC Utrecht - NEC/00fa2184833d4b61a53820b0390fb3c6.txt', names = headers)\n",
    "\n",
    "speler = speler.iloc[speler['lat'].dropna().index.values]\n",
    "speler['GPStijd'] = speler['GPStijd'].astype(str).str[:-3]\n",
    "speler = speler.drop_duplicates('GPStijd')"
   ]
  },
  {
   "cell_type": "markdown",
   "metadata": {},
   "source": [
    "# Betrouwbaarheid\n",
    "Om de betrouwbaarheid van de dataset te berekenen maken we gebruik van de volgende twee technieken:\n",
    "-  Kurtosis\n",
    "-  Skewness\n",
    "\n",
    "## Kutosis\n",
    "In de kansrekening en de statistiek is het begrip kurtosis of welving (gewelfdheid), (ook wel platheid genoemd) een maat voor de 'piekvormigheid' van een kansverdeling. Zowel de parameter zelf als de schatter daarvan worden met kurtosis aangeduid. Een hoge kurtosis wijst op een verdeling met een sterke piek. Dit houdt in dat een relatief groot deel van de variantie veroorzaakt wordt door zeldzame extreme waarden. Een lage kurtosis wijst op een platte verdeling. Hier wordt de variantie voornamelijk veroorzaakt door een groter deel minder extreme waarden.\n",
    "\n",
    "## Skewness\n",
    "Het begrip scheefheid (Engels: skewness) is in de statistiek de meestgebruikte maat van asymmetrie. Scheefheid is zowel te berekenen voor een kansverdeling als een steekproef.\n",
    "\n",
    "Je kunt deze twee waardes berekenen met de volgende formule:\n",
    "<img src=\"./betrouwbaarheid.jpg\" width=300>\n",
    "\n",
    "## Hoe weet je wanneer een kolom betrouwbaar is?\n",
    "Beide technieken kijken of er grote uitwijkingen zijn in het patroon van de gegevens. Als de waarde tussen de -1 en 1 ligt kan je zeggen dat de kolom betrouwbaar is."
   ]
  },
  {
   "cell_type": "markdown",
   "metadata": {},
   "source": [
    "## Betrouwbaarheid van de dataset van een speler"
   ]
  },
  {
   "cell_type": "code",
   "execution_count": 3,
   "metadata": {
    "collapsed": false
   },
   "outputs": [
    {
     "name": "stdout",
     "output_type": "stream",
     "text": [
      "GPStijd             0.059501\n",
      "dt(ms)              2.042834\n",
      "lat                -1.029026\n",
      "long               -1.116114\n",
      "snelheid(m/s)       2.347953\n",
      "acc_x(g-force)      1.568531\n",
      "acc_y,acc_z        -0.470557\n",
      "gyro_x(deg/s)      -0.529636\n",
      "gyro_y              0.392997\n",
      "gyro_z             -0.053275\n",
      "mag_x(-)           -0.525530\n",
      "mag_y               0.000000\n",
      "mag_z                    NaN\n",
      "NOTOFINTEREST            NaN\n",
      "heart rate (bpm)         NaN\n",
      "dtype: float64\n"
     ]
    }
   ],
   "source": [
    "print(speler.skew())"
   ]
  },
  {
   "cell_type": "markdown",
   "metadata": {},
   "source": [
    "Conclusie: de betrouwbaarheid van deze dataset is niet heel betrouwbaar, de waardes liggen echter niet heel ver buiten de marge"
   ]
  },
  {
   "cell_type": "code",
   "execution_count": 4,
   "metadata": {
    "collapsed": false
   },
   "outputs": [
    {
     "name": "stdout",
     "output_type": "stream",
     "text": [
      "GPStijd             -1.130410\n",
      "dt(ms)               2.173698\n",
      "lat                  0.581863\n",
      "long                 1.343365\n",
      "snelheid(m/s)        6.720797\n",
      "acc_x(g-force)      13.475049\n",
      "acc_y,acc_z          2.257875\n",
      "gyro_x(deg/s)       17.361170\n",
      "gyro_y              11.618458\n",
      "gyro_z              23.108675\n",
      "mag_x(-)            15.585675\n",
      "mag_y                0.000000\n",
      "mag_z                     NaN\n",
      "NOTOFINTEREST             NaN\n",
      "heart rate (bpm)          NaN\n",
      "dtype: float64\n"
     ]
    }
   ],
   "source": [
    "print(speler.kurtosis())"
   ]
  },
  {
   "cell_type": "markdown",
   "metadata": {},
   "source": [
    "Conclusie: de betrouwbaarheid van deze dataset is niet heel betrouwbaar, sommige waardes liggen zelfs boven de 10 dit betekent dat deze kolommen niet betrouwbaar zijn"
   ]
  },
  {
   "cell_type": "markdown",
   "metadata": {},
   "source": [
    "## Betrouwbaarheid van de balbezit datasets"
   ]
  },
  {
   "cell_type": "markdown",
   "metadata": {},
   "source": [
    "### NEC tegen Cambuur"
   ]
  },
  {
   "cell_type": "code",
   "execution_count": 5,
   "metadata": {
    "collapsed": false
   },
   "outputs": [
    {
     "name": "stdout",
     "output_type": "stream",
     "text": [
      "start    0.170092\n",
      "end      0.169724\n",
      "x       -0.041378\n",
      "y        0.084783\n",
      "dtype: float64\n"
     ]
    }
   ],
   "source": [
    "print(balbezitCambuur.skew())"
   ]
  },
  {
   "cell_type": "markdown",
   "metadata": {},
   "source": [
    "Conclusie: deze dataset is erg betrouwbaar alle waarden liggen heel dicht bij de 0"
   ]
  },
  {
   "cell_type": "code",
   "execution_count": 6,
   "metadata": {
    "collapsed": false
   },
   "outputs": [
    {
     "name": "stdout",
     "output_type": "stream",
     "text": [
      "start   -1.232860\n",
      "end     -1.233326\n",
      "x       -0.695754\n",
      "y       -0.761221\n",
      "dtype: float64\n"
     ]
    }
   ],
   "source": [
    "print(balbezitCambuur.kurtosis())"
   ]
  },
  {
   "cell_type": "markdown",
   "metadata": {},
   "source": [
    "Conclusie: deze dataset is redelijk betrouwbaar, de x en y kolommen liggen binnen de marge. De start en end kolom liggen hier net iets buiten."
   ]
  },
  {
   "cell_type": "markdown",
   "metadata": {},
   "source": [
    "### NEC tegen Roda"
   ]
  },
  {
   "cell_type": "code",
   "execution_count": 7,
   "metadata": {
    "collapsed": false
   },
   "outputs": [
    {
     "name": "stdout",
     "output_type": "stream",
     "text": [
      "start    0.091113\n",
      "end      0.090761\n",
      "x        0.009563\n",
      "y       -0.189711\n",
      "dtype: float64\n"
     ]
    }
   ],
   "source": [
    "print(balbezitRoda.skew())"
   ]
  },
  {
   "cell_type": "markdown",
   "metadata": {},
   "source": [
    "Conclusie: deze dataset is erg betrouwbaar alle waarden liggen heel dicht bij de 0"
   ]
  },
  {
   "cell_type": "code",
   "execution_count": 8,
   "metadata": {
    "collapsed": false
   },
   "outputs": [
    {
     "name": "stdout",
     "output_type": "stream",
     "text": [
      "start   -1.305545\n",
      "end     -1.305853\n",
      "x       -1.203952\n",
      "y       -0.548695\n",
      "dtype: float64\n"
     ]
    }
   ],
   "source": [
    "print(balbezitRoda.kurtosis())"
   ]
  },
  {
   "cell_type": "markdown",
   "metadata": {},
   "source": [
    "Conclusie: deze dataset is neit heel betrouwbaar 3 van de 4 kolommen liggen boven de 1/-1"
   ]
  },
  {
   "cell_type": "markdown",
   "metadata": {},
   "source": [
    "### NEC tegen Utrecht"
   ]
  },
  {
   "cell_type": "code",
   "execution_count": 9,
   "metadata": {
    "collapsed": false
   },
   "outputs": [
    {
     "name": "stdout",
     "output_type": "stream",
     "text": [
      "start    0.016807\n",
      "end      0.017389\n",
      "x       -0.053701\n",
      "y        0.070737\n",
      "dtype: float64\n"
     ]
    }
   ],
   "source": [
    "print(balbezitUtrecht.skew())"
   ]
  },
  {
   "cell_type": "markdown",
   "metadata": {},
   "source": [
    "Conclusie: deze dataset is erg betrouwbaar alle waarden liggen heel dicht bij de 0"
   ]
  },
  {
   "cell_type": "code",
   "execution_count": 10,
   "metadata": {
    "collapsed": false
   },
   "outputs": [
    {
     "name": "stdout",
     "output_type": "stream",
     "text": [
      "start   -1.135588\n",
      "end     -1.135539\n",
      "x       -0.842808\n",
      "y       -0.643642\n",
      "dtype: float64\n"
     ]
    }
   ],
   "source": [
    "print(balbezitUtrecht.kurtosis())"
   ]
  },
  {
   "cell_type": "markdown",
   "metadata": {},
   "source": [
    "Conclusie: deze dataset is redelijk betrouwbaar, de x en y kolommen liggen binnen de marge. De start en end kolom liggen hier net iets buiten."
   ]
  },
  {
   "cell_type": "markdown",
   "metadata": {},
   "source": [
    "### NEC tegen PEC Zwolle"
   ]
  },
  {
   "cell_type": "code",
   "execution_count": 11,
   "metadata": {
    "collapsed": false
   },
   "outputs": [
    {
     "name": "stdout",
     "output_type": "stream",
     "text": [
      "start    0.050417\n",
      "end      0.050409\n",
      "x       -0.131812\n",
      "y       -0.005022\n",
      "dtype: float64\n"
     ]
    }
   ],
   "source": [
    "print(balbezitPEC.skew())"
   ]
  },
  {
   "cell_type": "markdown",
   "metadata": {},
   "source": [
    "Conclusie: deze dataset is redelijk betrouwbaar omdat bijna alle waarden binnen de 1 en -1 marge liggen"
   ]
  },
  {
   "cell_type": "code",
   "execution_count": 12,
   "metadata": {
    "collapsed": false
   },
   "outputs": [
    {
     "name": "stdout",
     "output_type": "stream",
     "text": [
      "start   -1.143034\n",
      "end     -1.143310\n",
      "x       -0.858988\n",
      "y       -0.898045\n",
      "dtype: float64\n"
     ]
    }
   ],
   "source": [
    "print(balbezitPEC.kurtosis())"
   ]
  },
  {
   "cell_type": "markdown",
   "metadata": {},
   "source": [
    "Conclusie: deze dataset is redelijk betrouwbaar, de x en y kolommen liggen binnen de marge. De start en end kolom liggen hier net iets buiten."
   ]
  },
  {
   "cell_type": "markdown",
   "metadata": {},
   "source": [
    "# Machine Learning"
   ]
  },
  {
   "cell_type": "markdown",
   "metadata": {},
   "source": [
    "Eerst willen we kijken of we de spelers in verdedigers, middevelders en aanvallers kunnen verdelen hiervoor gebruiken we k-means en geven we aan dat we 3 clusters willen hebben"
   ]
  },
  {
   "cell_type": "code",
   "execution_count": 15,
   "metadata": {
    "collapsed": true
   },
   "outputs": [],
   "source": [
    "k_means = KMeans(n_clusters=3)"
   ]
  },
  {
   "cell_type": "code",
   "execution_count": 17,
   "metadata": {
    "collapsed": false,
    "scrolled": true
   },
   "outputs": [
    {
     "data": {
      "text/plain": [
       "KMeans(algorithm='auto', copy_x=True, init='k-means++', max_iter=300,\n",
       "    n_clusters=3, n_init=10, n_jobs=1, precompute_distances='auto',\n",
       "    random_state=None, tol=0.0001, verbose=0)"
      ]
     },
     "execution_count": 17,
     "metadata": {},
     "output_type": "execute_result"
    }
   ],
   "source": [
    "k_means.fit(balbezitPEC[['x', 'y']])"
   ]
  },
  {
   "cell_type": "code",
   "execution_count": 18,
   "metadata": {
    "collapsed": false
   },
   "outputs": [
    {
     "data": {
      "text/plain": [
       "array([1, 1, 0, 2, 0, 0, 2, 0, 1, 2, 1, 0, 1, 2, 2, 2, 2, 1, 0, 1, 1, 1, 1,\n",
       "       2, 1, 0, 0, 1, 1, 1, 0, 1, 2, 2, 1, 2, 1, 1, 1, 1, 1, 0, 2, 2, 2, 0,\n",
       "       2, 1, 1, 2, 1, 1, 1, 1, 0, 1, 1, 2, 2, 2, 2, 2, 1, 2, 2, 1, 0, 2, 2,\n",
       "       1, 2, 2, 1, 1, 0, 0, 1, 1, 0, 2, 1, 1, 1, 0, 0, 0, 1, 1, 0, 2, 1, 2,\n",
       "       1, 0, 0, 0, 0, 1, 0, 2, 1, 0, 0, 0, 0, 0, 0, 1, 1, 0, 1, 0, 0, 1, 1,\n",
       "       2, 2, 2, 0, 2, 0, 0, 0, 1, 1, 0, 1, 0, 2, 1, 2, 2, 0, 0, 1, 0, 1, 1,\n",
       "       2, 2, 2, 1, 2, 2, 2, 0, 1, 1, 0, 1, 1, 2, 0, 1, 1, 1, 1, 0, 2, 2, 2,\n",
       "       0, 1, 1, 1, 0, 0, 2, 1, 0, 0, 0, 0, 0, 1, 1, 1, 1, 0, 1, 2, 1, 1, 1,\n",
       "       0, 0, 1, 2, 0, 1, 1, 1, 2, 1, 2, 1, 0, 1, 1, 1, 1, 2, 0, 2, 1, 1, 2,\n",
       "       1, 2, 2, 1, 2, 1, 0, 2, 2, 0, 0, 1, 1, 2, 1, 1, 0, 1, 0, 0, 1, 2, 0,\n",
       "       0, 0, 1, 2, 2, 1, 2, 2, 2, 0, 0, 1, 1, 1, 0, 1, 2, 1, 2, 1, 0, 0, 1,\n",
       "       1, 0, 0, 0, 0, 1, 0, 1, 1, 1, 0, 0, 2, 0, 1, 1, 1, 1, 1, 1, 0, 1, 1,\n",
       "       0, 0, 0, 1, 2, 1, 1, 1, 1, 2, 2, 0, 1, 2, 2, 0, 2, 1, 0, 1, 1, 1, 0,\n",
       "       1, 0, 0, 2, 0, 1, 2, 2, 1, 0, 1, 1, 0, 1, 0, 0, 0, 1, 0, 0, 0, 0, 1,\n",
       "       1, 2, 2, 2, 1, 1, 1, 2, 1, 1, 0, 2, 0, 0, 1, 1, 1, 0, 1, 1, 1, 1, 0,\n",
       "       1, 2, 2, 1, 0, 0, 1, 1, 1, 0, 1, 2, 2, 0, 0, 0, 0, 0, 1, 1, 1, 1, 1,\n",
       "       2, 1, 1, 1, 1, 0, 0, 0, 2, 0, 0, 1, 0, 1, 2, 0, 0, 2, 0, 1, 1, 1, 1,\n",
       "       2, 1, 1, 1, 2, 1, 0, 0, 1, 0, 1, 0, 0, 1, 1, 2, 0, 1, 1, 1, 1, 1, 0,\n",
       "       1, 2, 2, 1, 1, 1, 1, 1, 1, 1, 0, 0, 0, 1, 0, 0, 1, 0, 0, 0, 1, 1, 2,\n",
       "       2, 0, 0, 0, 0, 0, 0, 1, 0, 1, 0, 2, 2, 1, 1, 1, 2, 0, 1, 0, 0, 0, 1,\n",
       "       0, 1, 1, 0, 2, 0, 0, 2, 2, 1, 0, 1, 0, 2, 2, 0, 1, 0, 2, 0, 1, 2, 2,\n",
       "       2, 1, 1, 2, 1, 2, 2, 0, 1, 2, 2, 0, 0, 0, 0, 1, 1, 1, 0, 1, 1, 0, 0,\n",
       "       2, 1, 1, 0, 2, 1, 1, 2, 1, 0, 1, 1, 1, 0, 2, 0, 1, 0, 1, 1, 1, 1, 1,\n",
       "       2, 1, 2, 2, 0, 1, 2, 1, 2, 1, 0, 1, 1, 1, 0, 1, 0, 1, 2, 1, 2, 1, 0,\n",
       "       1, 1, 1, 1, 1, 0, 0, 1, 0, 2, 2, 2, 0, 1, 2, 2, 2, 2, 2, 1, 0, 2, 2,\n",
       "       1, 0, 2, 0, 1, 2, 2, 2, 2, 1, 2, 2, 0, 2, 2, 2, 1, 0, 2, 2, 1, 2, 1,\n",
       "       0, 0, 0, 0, 2, 0, 2, 2, 0, 1, 2, 0, 0, 0, 1, 1, 2, 2, 0, 0, 0, 0, 1,\n",
       "       0, 0, 1, 0, 0, 2, 2, 0, 0, 0, 1, 2, 0, 0, 2, 0, 0, 1, 2, 1, 1, 1, 1,\n",
       "       1, 0, 1, 2, 0, 2, 2, 0, 1, 2, 2, 0, 0, 0, 0, 1, 1, 0, 0, 1, 1, 1, 2,\n",
       "       2, 0, 2, 2, 0, 1, 2, 1, 0, 2, 1, 1, 0, 0, 1, 0, 1, 1, 0, 1, 2, 2, 0,\n",
       "       2, 0, 1, 1, 2, 2, 1, 1, 2, 0, 1, 1, 0, 0, 2, 0, 2, 1, 2, 2, 0, 1, 2,\n",
       "       1, 0, 2, 0, 1, 2, 0, 2, 2, 2, 0, 2, 0, 1, 1, 1, 0, 2, 1, 0, 2, 2, 2,\n",
       "       1, 2, 1, 0, 1, 1, 1, 2, 1, 1, 1, 1, 0, 0, 2, 2, 0, 2, 2, 0, 0, 1, 0,\n",
       "       0, 1, 1, 2, 1, 0, 2, 0, 1, 1, 0, 2, 1, 0, 1, 1, 0, 1, 1, 2, 1, 2, 2,\n",
       "       2, 2, 2, 0, 0, 2, 0, 1, 1, 0, 0, 0, 0, 1, 1, 0, 0])"
      ]
     },
     "execution_count": 18,
     "metadata": {},
     "output_type": "execute_result"
    }
   ],
   "source": [
    "k_means.predict(balbezitPEC[['x','y']])"
   ]
  },
  {
   "cell_type": "markdown",
   "metadata": {},
   "source": [
    "Conclusie: omdat alle waarden ongeveer even vaak vooorkomen kunnen we zeggen dat we dit in kunnen delen in verdedigers, middenvelders en aanvallers"
   ]
  },
  {
   "cell_type": "code",
   "execution_count": null,
   "metadata": {
    "collapsed": false
   },
   "outputs": [],
   "source": [
    "speler = speler.iloc[::60, :]"
   ]
  },
  {
   "cell_type": "code",
   "execution_count": null,
   "metadata": {
    "collapsed": false
   },
   "outputs": [],
   "source": [
    "print(time.strptime('115502.10', '%H%M%S.%f'))"
   ]
  },
  {
   "cell_type": "code",
   "execution_count": null,
   "metadata": {
    "collapsed": false,
    "scrolled": true
   },
   "outputs": [],
   "source": [
    "speler.plot(x=0, y=3, figsize=(20,10), kind='line')\n",
    "plt.show()"
   ]
  }
 ],
 "metadata": {
  "kernelspec": {
   "display_name": "Python 3",
   "language": "python",
   "name": "python3"
  },
  "language_info": {
   "codemirror_mode": {
    "name": "ipython",
    "version": 3
   },
   "file_extension": ".py",
   "mimetype": "text/x-python",
   "name": "python",
   "nbconvert_exporter": "python",
   "pygments_lexer": "ipython3",
   "version": "3.6.0"
  }
 },
 "nbformat": 4,
 "nbformat_minor": 2
}
