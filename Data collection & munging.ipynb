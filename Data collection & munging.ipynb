{
 "cells": [
  {
   "cell_type": "markdown",
   "metadata": {
    "collapsed": true
   },
   "source": [
    "#  Data collection & Munging"
   ]
  },
  {
   "cell_type": "code",
   "execution_count": 3,
   "metadata": {
    "collapsed": false
   },
   "outputs": [],
   "source": [
    "import xml.etree.ElementTree as ET\n",
    "import pandas as pd"
   ]
  },
  {
   "cell_type": "code",
   "execution_count": 66,
   "metadata": {
    "collapsed": false
   },
   "outputs": [
    {
     "name": "stdout",
     "output_type": "stream",
     "text": [
      "  ID         start            end         code              label.0  \\\n",
      "0  1  4.3110428970  40.9711876731          TEG  [Naar zone, M2 TEG]   \n",
      "1  2  6.2150178417  15.1347948447       M2 TEG  [Naar zone, L2 TEG]   \n",
      "2  3  6.3110428970  40.9711876731  Start Jaimy  [Naar zone, M2 TEG]   \n",
      "3  4  6.3110428970  40.9711876731   Verdedigen  [Naar zone, M2 TEG]   \n",
      "4  5  8.2200000000  14.0400000000    AFTRAP WB                 None   \n",
      "\n",
      "               label.1              label.2                label.3  \\\n",
      "0  [Naar zone, L2 TEG]  [Naar zone, M1 TEG]  [Storen NEC, Compact]   \n",
      "1                 None                 None                   None   \n",
      "2  [Naar zone, L2 TEG]  [Naar zone, M1 TEG]  [Storen NEC, Compact]   \n",
      "3  [Naar zone, L2 TEG]  [Naar zone, M1 TEG]  [Storen NEC, Compact]   \n",
      "4                 None                 None                   None   \n",
      "\n",
      "              label.4              label.5   ...    label.62 label.63  \\\n",
      "0  [Storen NEC, Druk]  [Naar zone, R1 TEG]   ...        None     None   \n",
      "1                None                 None   ...        None     None   \n",
      "2  [Storen NEC, Druk]  [Naar zone, R1 TEG]   ...        None     None   \n",
      "3  [Storen NEC, Druk]  [Naar zone, R1 TEG]   ...        None     None   \n",
      "4                None                 None   ...        None     None   \n",
      "\n",
      "  label.64 label.65 label.66 label.67 label.68 label.69 label.70 label.71  \n",
      "0     None     None     None     None     None     None     None     None  \n",
      "1     None     None     None     None     None     None     None     None  \n",
      "2     None     None     None     None     None     None     None     None  \n",
      "3     None     None     None     None     None     None     None     None  \n",
      "4     None     None     None     None     None     None     None     None  \n",
      "\n",
      "[5 rows x 76 columns]\n",
      "        ID            start              end                code label.0  \\\n",
      "2307  2308  5383.7682425189  5398.7682425189      Vrije trap TEG    None   \n",
      "2308  2309  5427.2600000000  5437.2900000000   VOORZETTEN keeper   [TPE]   \n",
      "2309  2310  5490.7700000000  5503.6500000000   VRIJE TRAP keeper    None   \n",
      "2310  2311  5503.8700000000  5511.0100000000   VOORZETTEN keeper   [TPE]   \n",
      "2311  2312  5529.1800000000  5549.6500000000       OPBOUW keeper    None   \n",
      "\n",
      "     label.1 label.2 label.3 label.4 label.5   ...    label.62 label.63  \\\n",
      "2307    None    None    None    None    None   ...        None     None   \n",
      "2308    None    None    None    None    None   ...        None     None   \n",
      "2309    None    None    None    None    None   ...        None     None   \n",
      "2310    None    None    None    None    None   ...        None     None   \n",
      "2311    None    None    None    None    None   ...        None     None   \n",
      "\n",
      "     label.64 label.65 label.66 label.67 label.68 label.69 label.70 label.71  \n",
      "2307     None     None     None     None     None     None     None     None  \n",
      "2308     None     None     None     None     None     None     None     None  \n",
      "2309     None     None     None     None     None     None     None     None  \n",
      "2310     None     None     None     None     None     None     None     None  \n",
      "2311     None     None     None     None     None     None     None     None  \n",
      "\n",
      "[5 rows x 76 columns]\n"
     ]
    }
   ],
   "source": [
    "tree = ET.parse('datasets/new-xml/20160410 FC Utrecht - NEC-new.xml')\n",
    "\n",
    "root = tree.getroot()\n",
    "\n",
    "def xmlToDataframe(root):\n",
    "    all_instances = root[1]\n",
    "    all_records = []\n",
    "    headers = []\n",
    "    for i, child in enumerate(all_instances):\n",
    "        current_label = 0\n",
    "        record = []\n",
    "        for subchild in child:\n",
    "            label_name = ''\n",
    "            if subchild.tag == 'label':\n",
    "                subrecord = []\n",
    "                label_name = subchild.tag+'.'+str(current_label)\n",
    "                if label_name not in headers:\n",
    "                        headers.append(label_name)\n",
    "                for subsubchild in subchild:\n",
    "                    subrecord.append(subsubchild.text)\n",
    "                current_label += 1\n",
    "                record.append(subrecord)\n",
    "            else:\n",
    "                record.append(subchild.text)\n",
    "            if subchild.tag not in headers and subchild.tag not in 'label':\n",
    "                headers.append(subchild.tag)\n",
    "        # print(record)\n",
    "        all_records.append(record)\n",
    "    #print(headers)\n",
    "    return pd.DataFrame(all_records, columns=headers)\n",
    "\n",
    "df = xmlToDataframe(root)\n",
    "print(df.head())\n",
    "print(df.tail())"
   ]
  },
  {
   "cell_type": "code",
   "execution_count": null,
   "metadata": {
    "collapsed": true
   },
   "outputs": [],
   "source": []
  }
 ],
 "metadata": {
  "kernelspec": {
   "display_name": "Python 3",
   "language": "python",
   "name": "python3"
  },
  "language_info": {
   "codemirror_mode": {
    "name": "ipython",
    "version": 3
   },
   "file_extension": ".py",
   "mimetype": "text/x-python",
   "name": "python",
   "nbconvert_exporter": "python",
   "pygments_lexer": "ipython3",
   "version": "3.6.0"
  }
 },
 "nbformat": 4,
 "nbformat_minor": 2
}
